{
 "cells": [
  {
   "cell_type": "code",
   "execution_count": null,
   "metadata": {
    "colab": {
     "base_uri": "https://localhost:8080/"
    },
    "id": "5J9X3wm5ryqf",
    "outputId": "9e1e9dfe-488b-4cab-b4eb-90feceead3d1"
   },
   "outputs": [
    {
     "name": "stdout",
     "output_type": "stream",
     "text": [
      "Mounted at /content/drive\n"
     ]
    }
   ],
   "source": [
    "from google.colab import drive\n",
    "drive.mount('/content/drive')"
   ]
  },
  {
   "cell_type": "code",
   "execution_count": null,
   "metadata": {
    "colab": {
     "base_uri": "https://localhost:8080/"
    },
    "id": "bkr___BJQIpE",
    "outputId": "4683e110-1a38-4927-9f24-ee3b32b1a7da"
   },
   "outputs": [
    {
     "name": "stdout",
     "output_type": "stream",
     "text": [
      "Collecting mido\n",
      "\u001b[?25l  Downloading https://files.pythonhosted.org/packages/20/0a/81beb587b1ae832ea6a1901dc7c6faa380e8dd154e0a862f0a9f3d2afab9/mido-1.2.9-py2.py3-none-any.whl (52kB)\n",
      "\r",
      "\u001b[K     |██████▎                         | 10kB 21.0MB/s eta 0:00:01\r",
      "\u001b[K     |████████████▌                   | 20kB 14.6MB/s eta 0:00:01\r",
      "\u001b[K     |██████████████████▊             | 30kB 12.6MB/s eta 0:00:01\r",
      "\u001b[K     |█████████████████████████       | 40kB 11.8MB/s eta 0:00:01\r",
      "\u001b[K     |███████████████████████████████▏| 51kB 8.6MB/s eta 0:00:01\r",
      "\u001b[K     |████████████████████████████████| 61kB 4.9MB/s \n",
      "\u001b[?25hInstalling collected packages: mido\n",
      "Successfully installed mido-1.2.9\n"
     ]
    }
   ],
   "source": [
    "!pip install mido\n",
    "import numpy as np\n",
    "import tensorflow as tf\n",
    "#physical_devices = tf.config.list_physical_devices('GPU')\n",
    "#tf.config.experimental.set_memory_growth(physical_devices[0], enable=True)\n",
    "from tensorflow.keras.layers import Input, LSTM, Dropout, Dense, Flatten\n",
    "from tensorflow.keras.models import Model"
   ]
  },
  {
   "cell_type": "code",
   "execution_count": null,
   "metadata": {
    "id": "gQiBRxqGQTcn"
   },
   "outputs": [],
   "source": [
    "from mido import MidiFile\n",
    "note_duration = []\n",
    "b_p_m = 120\n",
    "output_all = []\n",
    "bpm = []\n",
    "\n",
    "def conversion_to_list(midi_path):\n",
    "    mid = MidiFile(midi_path)\n",
    "    mididict = []\n",
    "    output = []\n",
    "\n",
    "    # Put all note on/off in midinote as dictionary.\n",
    "    for i in mid:\n",
    "        if i.type == 'note_on' or i.type == 'note_off' or i.type == 'time_signature':\n",
    "            mididict.append(i.dict())\n",
    "        if i.is_meta and i.type == \"set_tempo\":\n",
    "            tempo = i.tempo\n",
    "            b_p_m = mido.tempo2bpm(tempo)\n",
    "            bpm.append(b_p_m)\n",
    "    # change time values from delta to relative time.\n",
    "    mem1=0\n",
    "    for i in mididict:\n",
    "        time = i['time'] + mem1\n",
    "        i['time'] = time\n",
    "        mem1 = i['time']\n",
    "    # make every note_on with 0 velocity note_off\n",
    "        if i['type'] == 'note_on' and i['velocity'] == 0:\n",
    "            i['type'] = 'note_off'\n",
    "    # put note, starttime, stoptime, as nested list in a list. # format is [type, note, time, channel]\n",
    "        mem2=[]\n",
    "        if i['type'] == 'note_on' or i['type'] == 'note_off':\n",
    "            mem2.append(i['type'])\n",
    "            mem2.append(i['note'])\n",
    "            mem2.append(i['time'])\n",
    "            mem2.append(i['channel'])\n",
    "            output.append(mem2)\n",
    "            output_all.append(mem2)\n",
    "    # put timesignatures\n",
    "        #if i['type'] == 'time_signature':\n",
    "            #mem2.append(i['type'])\n",
    "            #mem2.append(i['numerator'])\n",
    "            #mem2.append(i['denominator'])\n",
    "            #mem2.append(i['time'])\n",
    "            #output.append(mem2)\n",
    "            #output_all.append(mem2)\n",
    "    # viewing the midimessages.\n",
    "    #for i in output:\n",
    "        #print(i)\n",
    "    #print(mid.ticks_per_beat)\n",
    "    return output"
   ]
  },
  {
   "cell_type": "code",
   "execution_count": null,
   "metadata": {
    "id": "L-0RnLZfQe6x"
   },
   "outputs": [],
   "source": [
    "def duration_conversion(duration):\n",
    "    if duration < 0.125:\n",
    "        duration = 0.125\n",
    "    elif duration >= 0.125 and duration < 0.375:\n",
    "        duration = 0.25\n",
    "    elif duration >= 0.375 and duration < 0.625:\n",
    "        duration = 0.5\n",
    "    elif duration >= 0.625 and duration < 0.875:\n",
    "        duration = 0.75\n",
    "    elif duration >= 0.875 and duration < 1.25:\n",
    "        duration = 1\n",
    "    elif duration >= 1.25 and duration < 1.75:\n",
    "        duration = 1.5\n",
    "    elif duration >= 1.75 and duration < 2.5:\n",
    "        duration = 2\n",
    "    elif duration >= 2.5 and duration < 3.5:\n",
    "        duration = 3\n",
    "    elif duration >= 3.5 and duration <= 5:\n",
    "        duration = 4\n",
    "    elif duration > 5 and duration <= 7:\n",
    "        duration = 6\n",
    "    elif duration > 7 and duration <= 12:\n",
    "        duration = 8\n",
    "    elif duration > 12 and duration <= 24:\n",
    "        duration = 16\n",
    "    else:\n",
    "        duration = 32\n",
    "    return duration"
   ]
  },
  {
   "cell_type": "code",
   "execution_count": null,
   "metadata": {
    "id": "8QolekDPQl5D"
   },
   "outputs": [],
   "source": [
    "def rest_conversion(rest):\n",
    "    if rest < 0.05:\n",
    "        rest = 0\n",
    "    elif rest >= 0.05 and rest < 0.1:\n",
    "        rest = 0.1\n",
    "    elif rest >= 0.1 and rest < 0.5:\n",
    "        rest = 0.25\n",
    "    elif rest >= 0.5 and rest <= 1.5:\n",
    "        rest = 1\n",
    "    elif rest >= 1.5 and rest <= 3:\n",
    "        rest = 2\n",
    "    elif rest >= 3 and rest <= 6:\n",
    "        rest = 4\n",
    "    elif rest >= 6 and rest <= 12:\n",
    "        rest = 8\n",
    "    elif rest >= 12 and rest <= 24:\n",
    "        rest = 16\n",
    "    else:\n",
    "        rest = 32\n",
    "    return rest"
   ]
  },
  {
   "cell_type": "code",
   "execution_count": null,
   "metadata": {
    "id": "Pkrkqg_MCAfe"
   },
   "outputs": [],
   "source": [
    "# def rest_conversion(duration):\n",
    "#     if duration < 0.125:\n",
    "#         duration = 0.125\n",
    "#     elif duration >= 0.125 and duration < 0.375:\n",
    "#         duration = 0.25\n",
    "#     elif duration >= 0.375 and duration < 0.625:\n",
    "#         duration = 0.5\n",
    "#     elif duration >= 0.625 and duration < 0.875:\n",
    "#         duration = 0.75\n",
    "#     elif duration >= 0.875 and duration < 1.25:\n",
    "#         duration = 1\n",
    "#     elif duration >= 1.25 and duration < 1.75:\n",
    "#         duration = 1.5\n",
    "#     elif duration >= 1.75 and duration < 2.5:\n",
    "#         duration = 2\n",
    "#     elif duration >= 2.5 and duration < 3.5:\n",
    "#         duration = 3\n",
    "#     elif duration >= 3.5 and duration <= 5:\n",
    "#         duration = 4\n",
    "#     elif duration > 5 and duration <= 7:\n",
    "#         duration = 6\n",
    "#     elif duration > 7 and duration <= 12:\n",
    "#         duration = 8\n",
    "#     elif duration > 12 and duration <= 24:\n",
    "#         duration = 16\n",
    "#     else:\n",
    "#         duration = 32\n",
    "#     return duration"
   ]
  },
  {
   "cell_type": "code",
   "execution_count": null,
   "metadata": {
    "id": "spRq4WjoQrLb"
   },
   "outputs": [],
   "source": [
    "def calculate_note_duration(output):\n",
    "  for i, o in enumerate(output):\n",
    "      if o[0] == \"note_on\":\n",
    "          note = o[1]\n",
    "          start_time = output[i-1][2]\n",
    "          if i == 0:\n",
    "            start_time = 0\n",
    "          for idx, s in enumerate(output):\n",
    "              if idx > i and s[1] == note and s[0] == \"note_off\":\n",
    "                  stop_time = output[idx-1][2]\n",
    "                  duration = stop_time - start_time\n",
    "                  temp = []\n",
    "                  temp.append(note)\n",
    "                  duration = duration * b_p_m / 60\n",
    "                  duration = duration_conversion(duration)\n",
    "                  temp.append(duration)\n",
    "                  note_duration.append(temp)\n",
    "                  #print(idx)\n",
    "                  break"
   ]
  },
  {
   "cell_type": "code",
   "execution_count": null,
   "metadata": {
    "id": "BvcHx3HeSciS"
   },
   "outputs": [],
   "source": [
    "start_time = []\n",
    "def calculate_start_time():\n",
    "  for i, o in enumerate(output_all):\n",
    "      if o[0] == \"note_on\":\n",
    "          start_time.append(output_all[i-1][2])\n",
    "  start_time[0] = 0"
   ]
  },
  {
   "cell_type": "code",
   "execution_count": null,
   "metadata": {
    "id": "F3syFrPXSgHp"
   },
   "outputs": [],
   "source": [
    "rest_time = []\n",
    "avg_bpm = np.mean(bpm)\n",
    "def calculate_rest_time():\n",
    "  for idx in range(len(note_duration) - 1):\n",
    "      rest = start_time[idx + 1] - start_time[idx]\n",
    "      rest = rest * avg_bpm / 60\n",
    "      rest = rest_conversion(rest)\n",
    "      rest_time.append(rest)\n",
    "  rest_time.append(0)"
   ]
  },
  {
   "cell_type": "code",
   "execution_count": null,
   "metadata": {
    "id": "Y0n-yExDSlIV"
   },
   "outputs": [],
   "source": [
    "def append_rest_time():  \n",
    "  for idx, a in enumerate(note_duration):\n",
    "    a.append(rest_time[idx])"
   ]
  },
  {
   "cell_type": "code",
   "execution_count": null,
   "metadata": {
    "colab": {
     "base_uri": "https://localhost:8080/"
    },
    "id": "3OZ9LqWZQ-A9",
    "outputId": "76bdeb4b-76d7-4add-f536-d1e59fe1e955"
   },
   "outputs": [
    {
     "name": "stdout",
     "output_type": "stream",
     "text": [
      "0\n",
      "1\n",
      "2\n",
      "3\n",
      "4\n",
      "5\n",
      "6\n",
      "7\n",
      "8\n",
      "9\n",
      "10\n",
      "11\n",
      "12\n",
      "13\n",
      "14\n",
      "15\n",
      "16\n",
      "17\n",
      "18\n",
      "19\n",
      "20\n",
      "21\n",
      "22\n",
      "23\n",
      "24\n",
      "25\n",
      "26\n",
      "27\n",
      "28\n",
      "29\n",
      "30\n",
      "31\n",
      "32\n",
      "33\n",
      "34\n",
      "35\n",
      "36\n",
      "37\n",
      "38\n",
      "39\n",
      "40\n",
      "41\n",
      "42\n",
      "43\n",
      "44\n",
      "45\n",
      "46\n",
      "47\n",
      "48\n",
      "49\n",
      "50\n",
      "51\n",
      "52\n",
      "53\n",
      "54\n",
      "55\n",
      "56\n",
      "57\n",
      "58\n",
      "59\n",
      "60\n",
      "61\n",
      "62\n",
      "63\n",
      "64\n",
      "65\n",
      "66\n",
      "67\n",
      "68\n",
      "69\n",
      "70\n",
      "71\n",
      "72\n",
      "73\n",
      "74\n",
      "75\n",
      "76\n",
      "77\n",
      "78\n",
      "79\n",
      "80\n",
      "81\n",
      "82\n",
      "83\n",
      "84\n",
      "85\n",
      "86\n",
      "87\n",
      "88\n",
      "89\n",
      "90\n",
      "91\n",
      "92\n",
      "93\n",
      "94\n",
      "95\n",
      "96\n",
      "97\n",
      "98\n",
      "99\n",
      "100\n",
      "101\n",
      "102\n",
      "103\n",
      "104\n",
      "105\n",
      "106\n",
      "107\n",
      "108\n",
      "109\n",
      "110\n",
      "111\n",
      "112\n",
      "113\n",
      "114\n",
      "115\n",
      "116\n",
      "117\n",
      "118\n",
      "119\n",
      "120\n",
      "121\n",
      "122\n",
      "123\n",
      "124\n",
      "125\n",
      "126\n",
      "127\n",
      "128\n",
      "129\n",
      "130\n",
      "131\n",
      "132\n",
      "133\n",
      "134\n",
      "135\n",
      "136\n",
      "137\n",
      "138\n",
      "139\n",
      "140\n",
      "141\n",
      "142\n",
      "143\n",
      "144\n",
      "145\n",
      "146\n",
      "147\n",
      "148\n",
      "149\n",
      "150\n",
      "151\n",
      "152\n",
      "153\n",
      "154\n",
      "155\n",
      "156\n",
      "157\n",
      "158\n",
      "159\n",
      "160\n",
      "161\n",
      "162\n",
      "163\n",
      "164\n",
      "165\n",
      "166\n",
      "167\n",
      "168\n",
      "169\n",
      "170\n",
      "171\n",
      "172\n",
      "173\n",
      "174\n",
      "175\n",
      "176\n",
      "177\n",
      "178\n",
      "179\n",
      "180\n",
      "181\n",
      "182\n",
      "183\n",
      "184\n",
      "185\n",
      "186\n",
      "187\n",
      "188\n",
      "189\n",
      "190\n",
      "191\n",
      "192\n",
      "193\n",
      "194\n",
      "195\n",
      "196\n",
      "197\n",
      "198\n",
      "199\n",
      "200\n",
      "201\n",
      "202\n",
      "203\n",
      "204\n",
      "205\n",
      "206\n",
      "207\n",
      "208\n",
      "209\n",
      "210\n",
      "211\n",
      "212\n",
      "213\n",
      "214\n",
      "215\n",
      "216\n",
      "217\n",
      "218\n",
      "219\n",
      "220\n",
      "221\n",
      "222\n",
      "223\n",
      "224\n",
      "225\n",
      "226\n",
      "227\n",
      "228\n",
      "229\n",
      "230\n",
      "231\n",
      "232\n",
      "233\n",
      "234\n",
      "235\n",
      "236\n",
      "237\n",
      "238\n",
      "239\n",
      "240\n",
      "241\n",
      "242\n",
      "243\n",
      "244\n",
      "245\n",
      "246\n",
      "247\n",
      "248\n",
      "249\n",
      "250\n",
      "251\n",
      "252\n",
      "253\n",
      "254\n",
      "255\n",
      "256\n",
      "257\n",
      "258\n",
      "259\n",
      "260\n",
      "261\n",
      "262\n",
      "263\n",
      "264\n",
      "265\n",
      "266\n",
      "267\n",
      "268\n",
      "269\n",
      "270\n",
      "271\n",
      "272\n",
      "273\n",
      "274\n",
      "275\n",
      "276\n",
      "277\n",
      "278\n",
      "279\n",
      "280\n",
      "281\n",
      "282\n",
      "283\n",
      "284\n",
      "285\n",
      "286\n",
      "287\n",
      "288\n",
      "289\n",
      "290\n",
      "291\n",
      "292\n",
      "293\n",
      "294\n",
      "295\n",
      "296\n",
      "297\n",
      "298\n",
      "299\n",
      "300\n",
      "301\n",
      "302\n",
      "303\n",
      "304\n",
      "305\n",
      "306\n",
      "307\n",
      "308\n",
      "309\n",
      "310\n",
      "311\n",
      "312\n",
      "313\n",
      "314\n",
      "315\n",
      "316\n",
      "317\n",
      "318\n"
     ]
    }
   ],
   "source": [
    "import glob\n",
    "import mido\n",
    "from mido import MidiFile, MidiTrack, Message\n",
    "count = 0\n",
    "for folder in glob.glob('/content/drive/MyDrive/Major Project/datasets/classical_midi/*'):\n",
    "  for midi in glob.glob(folder + '/*.mid'):\n",
    "    #print(midi)\n",
    "    print(count)\n",
    "\n",
    "    output = conversion_to_list(midi)\n",
    "    calculate_note_duration(output)\n",
    "    \n",
    "    count += 1"
   ]
  },
  {
   "cell_type": "code",
   "execution_count": null,
   "metadata": {
    "id": "YiQnl18mlYHi"
   },
   "outputs": [],
   "source": [
    "np.save(\"/content/drive/MyDrive/Major Project/paper/note_duration.npy\", np.array(note_duration))\n",
    "np.save(\"/content/drive/MyDrive/Major Project/paper/output_all.npy\", np.array(output_all))"
   ]
  },
  {
   "cell_type": "code",
   "execution_count": null,
   "metadata": {
    "colab": {
     "base_uri": "https://localhost:8080/"
    },
    "id": "EMQyKMyuxet9",
    "outputId": "c8f8c351-96dd-43e0-a10b-d77d530189a9"
   },
   "outputs": [
    {
     "data": {
      "text/plain": [
       "['note_on', 82, 0, 0]"
      ]
     },
     "execution_count": 12,
     "metadata": {
      "tags": []
     },
     "output_type": "execute_result"
    }
   ],
   "source": [
    "output_all[0]"
   ]
  },
  {
   "cell_type": "code",
   "execution_count": null,
   "metadata": {
    "id": "EwRwypi6iAsr"
   },
   "outputs": [],
   "source": [
    "calculate_start_time()"
   ]
  },
  {
   "cell_type": "code",
   "execution_count": null,
   "metadata": {
    "id": "Y4icoHmHu9pa"
   },
   "outputs": [],
   "source": [
    "calculate_rest_time()\n",
    "append_rest_time()"
   ]
  },
  {
   "cell_type": "code",
   "execution_count": null,
   "metadata": {
    "colab": {
     "base_uri": "https://localhost:8080/"
    },
    "id": "Tp9YGtjnvCVk",
    "outputId": "8c3c90b6-26e0-4177-bbaa-d7752bd30f90"
   },
   "outputs": [
    {
     "name": "stdout",
     "output_type": "stream",
     "text": [
      "1521514\n",
      "760755\n",
      "760755\n",
      "760755\n"
     ]
    }
   ],
   "source": [
    "print(len(output_all))\n",
    "print(len(start_time))\n",
    "print(len(rest_time))\n",
    "print(len(note_duration))"
   ]
  },
  {
   "cell_type": "code",
   "execution_count": null,
   "metadata": {
    "colab": {
     "base_uri": "https://localhost:8080/"
    },
    "id": "iRC4HTOsSn8b",
    "outputId": "84eb3c17-3cee-41fb-8d37-7c36e4874a8b"
   },
   "outputs": [
    {
     "data": {
      "text/plain": [
       "[[72, 0.125, 0.125],\n",
       " [64, 0.25, 0.25],\n",
       " [81, 0.25, 0.125],\n",
       " [72, 0.125, 0.125],\n",
       " [53, 0.25, 0.125],\n",
       " [65, 0.25, 0.25],\n",
       " [81, 0.25, 0.125],\n",
       " [72, 0.125, 0.125],\n",
       " [55, 0.25, 0.25],\n",
       " [72, 0.25, 0.25]]"
      ]
     },
     "execution_count": 28,
     "metadata": {
      "tags": []
     },
     "output_type": "execute_result"
    }
   ],
   "source": [
    "note_duration[100:110]"
   ]
  },
  {
   "cell_type": "code",
   "execution_count": null,
   "metadata": {
    "colab": {
     "base_uri": "https://localhost:8080/"
    },
    "id": "isUEaf6Sgu_S",
    "outputId": "e7eea9e5-9a25-4547-89d5-08dd3544aa38"
   },
   "outputs": [
    {
     "data": {
      "text/plain": [
       "(760755, 3)"
      ]
     },
     "execution_count": 29,
     "metadata": {
      "tags": []
     },
     "output_type": "execute_result"
    }
   ],
   "source": [
    "np.array(note_duration).shape"
   ]
  },
  {
   "cell_type": "code",
   "execution_count": null,
   "metadata": {
    "id": "l2ytnxE5nID7"
   },
   "outputs": [],
   "source": [
    "np.save(\"/content/drive/MyDrive/Major Project/paper/note_duration_final.npy\", np.array(note_duration))"
   ]
  },
  {
   "cell_type": "code",
   "execution_count": null,
   "metadata": {
    "id": "ICdJiHXE2GJw"
   },
   "outputs": [],
   "source": []
  }
 ],
 "metadata": {
  "accelerator": "GPU",
  "colab": {
   "machine_shape": "hm",
   "provenance": [],
   "toc_visible": true
  },
  "kernelspec": {
   "display_name": "Python 3",
   "language": "python",
   "name": "python3"
  },
  "language_info": {
   "codemirror_mode": {
    "name": "ipython",
    "version": 3
   },
   "file_extension": ".py",
   "mimetype": "text/x-python",
   "name": "python",
   "nbconvert_exporter": "python",
   "pygments_lexer": "ipython3",
   "version": "3.8.10"
  }
 },
 "nbformat": 4,
 "nbformat_minor": 1
}
